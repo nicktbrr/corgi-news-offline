{
 "cells": [
  {
   "cell_type": "code",
   "execution_count": 3,
   "metadata": {},
   "outputs": [
    {
     "name": "stdout",
     "output_type": "stream",
     "text": [
      "MoviePy is installed at: /opt/anaconda3/envs/aligner/lib/python3.11/site-packages/moviepy/__init__.py\n",
      "MoviePy version: 2.1.1\n"
     ]
    }
   ],
   "source": [
    "import moviepy\n",
    "print(f'MoviePy is installed at: {moviepy.__file__}')\n",
    "print(f'MoviePy version: {moviepy.__version__}')"
   ]
  },
  {
   "cell_type": "code",
   "execution_count": 4,
   "metadata": {},
   "outputs": [],
   "source": [
    "from moviepy.video.io.VideoFileClip import VideoFileClip\n",
    "from moviepy.video.VideoClip import ColorClip, ImageClip, TextClip\n",
    "from moviepy.video.compositing.CompositeVideoClip import CompositeVideoClip\n",
    "from moviepy.audio.io.AudioFileClip import AudioFileClip\n",
    "from moviepy.video.fx.Loop import Loop\n",
    "import numpy as np\n",
    "import os\n",
    "import logging\n",
    "import sys\n",
    "from parse import parse_textgrid"
   ]
  },
  {
   "cell_type": "code",
   "execution_count": 5,
   "metadata": {},
   "outputs": [],
   "source": [
    "logging.basicConfig(level=logging.INFO,\n",
    "                    format='%(asctime)s - %(name)s - %(levelname)s - %(message)s')\n",
    "logger = logging.getLogger('movie_generator')\n",
    "process_folder = \"transcribed/1741894201\"\n",
    "output_path = \"output_videos/shorts_video.mp4\"\n",
    "SHORTS_WIDTH, SHORTS_HEIGHT = 1080, 1920\n",
    "PADDING = 50  # Padding for summary image"
   ]
  },
  {
   "cell_type": "code",
   "execution_count": 8,
   "metadata": {},
   "outputs": [
    {
     "name": "stderr",
     "output_type": "stream",
     "text": [
      "2025-03-13 14:28:53,486 - textgrid_parser - INFO - Parsing TextGrid file: transcribed/1741894201/alignment/1741894201.TextGrid\n",
      "2025-03-13 14:28:53,492 - textgrid_parser - INFO - Successfully parsed 47 captions\n",
      "2025-03-13 14:28:53,492 - movie_generator - INFO - Extracted 47 captions for video\n",
      "2025-03-13 14:28:53,494 - movie_generator - INFO - Creating video with duration: 16.20 seconds\n"
     ]
    },
    {
     "name": "stdout",
     "output_type": "stream",
     "text": [
      "{'video_found': True, 'audio_found': False, 'metadata': {}, 'inputs': [{'streams': [{'input_number': 0, 'stream_number': 0, 'stream_type': 'video', 'language': None, 'default': True, 'size': [1600, 1600], 'bitrate': None, 'fps': 25.0, 'codec_name': 'gif', 'profile': None}], 'input_number': 0}], 'duration': 2.84, 'bitrate': 44637, 'start': 0.0, 'default_video_input_number': 0, 'default_video_stream_number': 0, 'video_codec_name': 'gif', 'video_profile': None, 'video_size': [1600, 1600], 'video_bitrate': None, 'video_fps': 25.0, 'video_duration': 2.84, 'video_n_frames': 71}\n",
      "/opt/anaconda3/envs/aligner/lib/python3.11/site-packages/imageio_ffmpeg/binaries/ffmpeg-macos-aarch64-v7.1 -i ./assets/corgi.gif -loglevel error -f image2pipe -vf scale=1600:1600 -sws_flags bicubic -pix_fmt rgba -vcodec rawvideo -\n"
     ]
    }
   ],
   "source": [
    "if not os.path.exists(process_folder):\n",
    "    logger.error(f\"Process folder not found: {process_folder}\")\n",
    "\n",
    "# Set up paths based on the structure\n",
    "alignment_folder = os.path.join(process_folder, \"alignment\")\n",
    "\n",
    "# Set output path if not provided\n",
    "if output_path is None:\n",
    "    output_path = os.path.join(process_folder, \"output_shorts.mp4\")\n",
    "\n",
    "# Set FFmpeg path for the current environment\n",
    "if sys.platform == \"darwin\":  # macOS\n",
    "    os.environ[\"IMAGEIO_FFMPEG_EXE\"] = \"/opt/anaconda3/envs/mana/bin/ffmpeg\"\n",
    "    os.environ[\"IMAGEMAGICK_BINARY\"] = \"/opt/homebrew/bin/magick\"\n",
    "\n",
    "# Find TextGrid file in alignment folder\n",
    "textgrid_files = [f for f in os.listdir(\n",
    "    alignment_folder) if f.endswith('.TextGrid')]\n",
    "if not textgrid_files:\n",
    "    logger.error(f\"No TextGrid files found in {alignment_folder}\")\n",
    "\n",
    "textgrid_path = os.path.join(alignment_folder, textgrid_files[0])\n",
    "\n",
    "# Parse TextGrid to get captions\n",
    "captions = parse_textgrid(textgrid_path)\n",
    "if not captions:\n",
    "    logger.error(\"Failed to extract captions from TextGrid\")\n",
    "\n",
    "logger.info(f\"Extracted {len(captions)} captions for video\")\n",
    "\n",
    "# Find audio file in process folder\n",
    "audio_files = [f for f in os.listdir(\n",
    "    process_folder) if f.endswith('.wav') or f.endswith('.mp3')]\n",
    "if not audio_files:\n",
    "    logger.error(f\"No audio files found in {process_folder}\")\n",
    "\n",
    "audio_path = os.path.join(process_folder, audio_files[0])\n",
    "\n",
    "# Find image file in process folder\n",
    "image_files = [f for f in os.listdir(\n",
    "    process_folder) if f.endswith('.png') or f.endswith('.jpg')]\n",
    "if not image_files:\n",
    "    logger.error(f\"No image files found in {process_folder}\")\n",
    "\n",
    "image_path = os.path.join(process_folder, image_files[0])\n",
    "\n",
    "# Path to corgi GIF in assets folder\n",
    "corgi_path = \"./assets/corgi.gif\"\n",
    "if not os.path.exists(corgi_path):\n",
    "    logger.error(f\"Corgi GIF not found at {corgi_path}\")\n",
    "\n",
    "# Maximum duration based on last caption end time\n",
    "# Default 10 seconds if no captions\n",
    "MAX_DURATION = captions[-1][1] if captions else 10\n",
    "\n",
    "logger.info(\n",
    "    f\"Creating video with duration: {MAX_DURATION:.2f} seconds\")\n",
    "\n",
    "# Create a background with YouTube Shorts resolution\n",
    "background = ColorClip(size=(SHORTS_WIDTH, SHORTS_HEIGHT),\n",
    "                       color=(10, 6, 47))\n",
    "\n",
    "# Load and prepare the corgi GIF\n",
    "video = VideoFileClip(corgi_path, has_mask=True)"
   ]
  },
  {
   "cell_type": "code",
   "execution_count": 9,
   "metadata": {},
   "outputs": [],
   "source": [
    "video.preview()"
   ]
  },
  {
   "cell_type": "code",
   "execution_count": 11,
   "metadata": {},
   "outputs": [
    {
     "name": "stdout",
     "output_type": "stream",
     "text": [
      "{'video_found': True, 'audio_found': False, 'metadata': {}, 'inputs': [{'streams': [{'input_number': 0, 'stream_number': 0, 'stream_type': 'video', 'language': None, 'default': True, 'size': [1600, 1600], 'bitrate': None, 'fps': 25.0, 'codec_name': 'gif', 'profile': None}], 'input_number': 0}], 'duration': 2.84, 'bitrate': 44637, 'start': 0.0, 'default_video_input_number': 0, 'default_video_stream_number': 0, 'video_codec_name': 'gif', 'video_profile': None, 'video_size': [1600, 1600], 'video_bitrate': None, 'video_fps': 25.0, 'video_duration': 2.84, 'video_n_frames': 71}\n",
      "/opt/anaconda3/envs/aligner/lib/python3.11/site-packages/imageio_ffmpeg/binaries/ffmpeg-macos-aarch64-v7.1 -ss 0.000000 -i ./assets/corgi.gif -ss 0.026667 -loglevel error -f image2pipe -vf scale=1600:1600 -sws_flags bicubic -pix_fmt rgba -vcodec rawvideo -\n"
     ]
    },
    {
     "name": "stderr",
     "output_type": "stream",
     "text": [
      "/opt/anaconda3/envs/aligner/lib/python3.11/site-packages/moviepy/video/io/ffmpeg_reader.py:178: UserWarning: In file ./assets/corgi.gif, 10240000 bytes wanted but 0 bytes read at frame index 70 (out of a total 71 frames), at time 2.80/2.84 sec. Using the last valid frame instead.\n",
      "  warnings.warn(\n"
     ]
    },
    {
     "name": "stdout",
     "output_type": "stream",
     "text": [
      "{'video_found': True, 'audio_found': False, 'metadata': {}, 'inputs': [{'streams': [{'input_number': 0, 'stream_number': 0, 'stream_type': 'video', 'language': None, 'default': True, 'size': [1600, 1600], 'bitrate': None, 'fps': 25.0, 'codec_name': 'gif', 'profile': None}], 'input_number': 0}], 'duration': 2.84, 'bitrate': 44637, 'start': 0.0, 'default_video_input_number': 0, 'default_video_stream_number': 0, 'video_codec_name': 'gif', 'video_profile': None, 'video_size': [1600, 1600], 'video_bitrate': None, 'video_fps': 25.0, 'video_duration': 2.84, 'video_n_frames': 71}\n",
      "/opt/anaconda3/envs/aligner/lib/python3.11/site-packages/imageio_ffmpeg/binaries/ffmpeg-macos-aarch64-v7.1 -ss 0.000000 -i ./assets/corgi.gif -ss 0.053333 -loglevel error -f image2pipe -vf scale=1600:1600 -sws_flags bicubic -pix_fmt rgba -vcodec rawvideo -\n",
      "{'video_found': True, 'audio_found': False, 'metadata': {}, 'inputs': [{'streams': [{'input_number': 0, 'stream_number': 0, 'stream_type': 'video', 'language': None, 'default': True, 'size': [1600, 1600], 'bitrate': None, 'fps': 25.0, 'codec_name': 'gif', 'profile': None}], 'input_number': 0}], 'duration': 2.84, 'bitrate': 44637, 'start': 0.0, 'default_video_input_number': 0, 'default_video_stream_number': 0, 'video_codec_name': 'gif', 'video_profile': None, 'video_size': [1600, 1600], 'video_bitrate': None, 'video_fps': 25.0, 'video_duration': 2.84, 'video_n_frames': 71}\n",
      "/opt/anaconda3/envs/aligner/lib/python3.11/site-packages/imageio_ffmpeg/binaries/ffmpeg-macos-aarch64-v7.1 -ss 0.000000 -i ./assets/corgi.gif -ss 0.013333 -loglevel error -f image2pipe -vf scale=1600:1600 -sws_flags bicubic -pix_fmt rgba -vcodec rawvideo -\n",
      "{'video_found': True, 'audio_found': False, 'metadata': {}, 'inputs': [{'streams': [{'input_number': 0, 'stream_number': 0, 'stream_type': 'video', 'language': None, 'default': True, 'size': [1600, 1600], 'bitrate': None, 'fps': 25.0, 'codec_name': 'gif', 'profile': None}], 'input_number': 0}], 'duration': 2.84, 'bitrate': 44637, 'start': 0.0, 'default_video_input_number': 0, 'default_video_stream_number': 0, 'video_codec_name': 'gif', 'video_profile': None, 'video_size': [1600, 1600], 'video_bitrate': None, 'video_fps': 25.0, 'video_duration': 2.84, 'video_n_frames': 71}\n",
      "/opt/anaconda3/envs/aligner/lib/python3.11/site-packages/imageio_ffmpeg/binaries/ffmpeg-macos-aarch64-v7.1 -ss 0.000000 -i ./assets/corgi.gif -ss 0.040000 -loglevel error -f image2pipe -vf scale=1600:1600 -sws_flags bicubic -pix_fmt rgba -vcodec rawvideo -\n",
      "{'video_found': True, 'audio_found': False, 'metadata': {}, 'inputs': [{'streams': [{'input_number': 0, 'stream_number': 0, 'stream_type': 'video', 'language': None, 'default': True, 'size': [1600, 1600], 'bitrate': None, 'fps': 25.0, 'codec_name': 'gif', 'profile': None}], 'input_number': 0}], 'duration': 2.84, 'bitrate': 44637, 'start': 0.0, 'default_video_input_number': 0, 'default_video_stream_number': 0, 'video_codec_name': 'gif', 'video_profile': None, 'video_size': [1600, 1600], 'video_bitrate': None, 'video_fps': 25.0, 'video_duration': 2.84, 'video_n_frames': 71}\n",
      "/opt/anaconda3/envs/aligner/lib/python3.11/site-packages/imageio_ffmpeg/binaries/ffmpeg-macos-aarch64-v7.1 -i ./assets/corgi.gif -loglevel error -f image2pipe -vf scale=1600:1600 -sws_flags bicubic -pix_fmt rgba -vcodec rawvideo -\n"
     ]
    }
   ],
   "source": [
    "effect = Loop(duration=MAX_DURATION)\n",
    "vdieo1 = effect.apply(video)\n",
    "vdieo1.preview()"
   ]
  }
 ],
 "metadata": {
  "kernelspec": {
   "display_name": "aligner",
   "language": "python",
   "name": "python3"
  },
  "language_info": {
   "codemirror_mode": {
    "name": "ipython",
    "version": 3
   },
   "file_extension": ".py",
   "mimetype": "text/x-python",
   "name": "python",
   "nbconvert_exporter": "python",
   "pygments_lexer": "ipython3",
   "version": "3.11.8"
  }
 },
 "nbformat": 4,
 "nbformat_minor": 2
}
